{
 "cells": [
  {
   "cell_type": "code",
   "execution_count": 26,
   "id": "2e073019",
   "metadata": {},
   "outputs": [],
   "source": [
    "import tensorflow as tf"
   ]
  },
  {
   "cell_type": "code",
   "execution_count": 27,
   "id": "184a46bb",
   "metadata": {},
   "outputs": [],
   "source": [
    "import librosa"
   ]
  },
  {
   "cell_type": "code",
   "execution_count": 28,
   "id": "cd4a6119",
   "metadata": {},
   "outputs": [],
   "source": [
    "import numpy as np"
   ]
  },
  {
   "cell_type": "code",
   "execution_count": 29,
   "id": "8d5e926e",
   "metadata": {},
   "outputs": [],
   "source": [
    "model = tf.keras.models.load_model('saved_models/weights.best.basic_cnn.hdf5')"
   ]
  },
  {
   "cell_type": "code",
   "execution_count": 33,
   "id": "a5c9838a",
   "metadata": {},
   "outputs": [],
   "source": [
    "def extract_features(file_name):\n",
    "    max_pad_len = 215\n",
    "    audio, sample_rate = librosa.load(file_name) \n",
    "    mfccs = librosa.feature.mfcc(y=audio, sr=sample_rate, n_mfcc=40)\n",
    "    pad_width = max_pad_len - mfccs.shape[1]\n",
    "    feat = np.pad(mfccs, pad_width=((0, 0), (0, pad_width)), mode='constant')\n",
    "    "
   ]
  },
  {
   "cell_type": "code",
   "execution_count": 34,
   "id": "3b97e90e",
   "metadata": {},
   "outputs": [],
   "source": [
    "def pred(filename):\n",
    "    feat = extract_features(filename)\n",
    "    feat = feat.reshape(40, 215, 1)\n",
    "    batch_size=1 # example batch size\n",
    "    feat = np.reshape(feat, (batch_size,) + feat.shape)\n",
    "    pred = str(np.argmax(model.predict(feat)))\n",
    "    return class_map[pred]\n"
   ]
  },
  {
   "cell_type": "code",
   "execution_count": 35,
   "id": "15674982",
   "metadata": {},
   "outputs": [
    {
     "ename": "AttributeError",
     "evalue": "'NoneType' object has no attribute 'reshape'",
     "output_type": "error",
     "traceback": [
      "\u001b[0;31m---------------------------------------------------------------------------\u001b[0m",
      "\u001b[0;31mAttributeError\u001b[0m                            Traceback (most recent call last)",
      "Cell \u001b[0;32mIn[35], line 1\u001b[0m\n\u001b[0;32m----> 1\u001b[0m \u001b[43mpred\u001b[49m\u001b[43m(\u001b[49m\u001b[38;5;124;43m'\u001b[39;49m\u001b[38;5;124;43m143651-2-0-59.wav\u001b[39;49m\u001b[38;5;124;43m'\u001b[39;49m\u001b[43m)\u001b[49m\n",
      "Cell \u001b[0;32mIn[34], line 3\u001b[0m, in \u001b[0;36mpred\u001b[0;34m(filename)\u001b[0m\n\u001b[1;32m      1\u001b[0m \u001b[38;5;28;01mdef\u001b[39;00m \u001b[38;5;21mpred\u001b[39m(filename):\n\u001b[1;32m      2\u001b[0m     feat \u001b[38;5;241m=\u001b[39m extract_features(filename)\n\u001b[0;32m----> 3\u001b[0m     feat \u001b[38;5;241m=\u001b[39m \u001b[43mfeat\u001b[49m\u001b[38;5;241;43m.\u001b[39;49m\u001b[43mreshape\u001b[49m(\u001b[38;5;241m40\u001b[39m, \u001b[38;5;241m1\u001b[39m, \u001b[38;5;241m1\u001b[39m)\n\u001b[1;32m      4\u001b[0m     batch_size\u001b[38;5;241m=\u001b[39m\u001b[38;5;241m1\u001b[39m \u001b[38;5;66;03m# example batch size\u001b[39;00m\n\u001b[1;32m      5\u001b[0m     feat \u001b[38;5;241m=\u001b[39m np\u001b[38;5;241m.\u001b[39mreshape(feat, (batch_size,) \u001b[38;5;241m+\u001b[39m feat\u001b[38;5;241m.\u001b[39mshape)\n",
      "\u001b[0;31mAttributeError\u001b[0m: 'NoneType' object has no attribute 'reshape'"
     ]
    }
   ],
   "source": [
    "pred('143651-2-0-59.wav')"
   ]
  },
  {
   "cell_type": "code",
   "execution_count": 18,
   "id": "b01e2d32",
   "metadata": {},
   "outputs": [],
   "source": [
    "class_map = {'0' : 'air_conditioner',\n",
    "             '1' : 'car_horn',\n",
    "             '2' : 'children_playing', \n",
    "             '3' : 'dog_bark', \n",
    "             '4' : 'drilling', \n",
    "             '5' : 'engine_idling', \n",
    "             '6' : 'gun_shot',\n",
    "             '7' : 'jackhammer',\n",
    "             '8' : 'siren',\n",
    "             '9' : 'street_music'}"
   ]
  },
  {
   "cell_type": "code",
   "execution_count": null,
   "id": "f25c6e3e",
   "metadata": {},
   "outputs": [],
   "source": []
  }
 ],
 "metadata": {
  "kernelspec": {
   "display_name": "Python 3.10 (tensorflow)",
   "language": "python",
   "name": "tensorflow"
  },
  "language_info": {
   "codemirror_mode": {
    "name": "ipython",
    "version": 3
   },
   "file_extension": ".py",
   "mimetype": "text/x-python",
   "name": "python",
   "nbconvert_exporter": "python",
   "pygments_lexer": "ipython3",
   "version": "3.10.10"
  }
 },
 "nbformat": 4,
 "nbformat_minor": 5
}
